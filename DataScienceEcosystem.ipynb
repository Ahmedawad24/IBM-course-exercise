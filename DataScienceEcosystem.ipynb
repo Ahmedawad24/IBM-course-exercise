{
 "cells": [
  {
   "cell_type": "markdown",
   "id": "2f301869-8313-4cc5-988a-185fb6159e99",
   "metadata": {},
   "source": [
    "# Data Science Tools and Ecosystem"
   ]
  },
  {
   "cell_type": "markdown",
   "id": "ab8c37ed-f6c5-4c65-a485-b2d9b310e1f6",
   "metadata": {},
   "source": [
    "## In this notebook, Data Science Tools and Ecosystem are summarized"
   ]
  },
  {
   "cell_type": "code",
   "execution_count": null,
   "id": "30fd868f-776c-46d0-8daa-11c13d6147a7",
   "metadata": {},
   "outputs": [],
   "source": [
    "### Some of the popular languages that Data Scientists use are:\n",
    "1. Python\n",
    "* R Programming\n",
    "* SQL"
   ]
  },
  {
   "cell_type": "markdown",
   "id": "de332968-4054-4fad-997d-93e39acc2d5d",
   "metadata": {},
   "source": [
    "### Some of the commonly used libraries used by Data Scientists include:\n",
    "* Pytorch \n",
    "* Pandas\n",
    "* keras"
   ]
  },
  {
   "cell_type": "markdown",
   "id": "0ae551fe-3a46-4b3b-8587-4ac02cafb2a2",
   "metadata": {},
   "source": [
    "### Below are a few examples of evaluating arithmetic expressions in Python\n",
    "a = 2+2\n",
    "a\n"
   ]
  },
  {
   "cell_type": "code",
   "execution_count": 13,
   "id": "2e567984-7620-4c6d-83ee-45d90d1032e0",
   "metadata": {},
   "outputs": [
    {
     "name": "stdout",
     "output_type": "stream",
     "text": [
      "17\n"
     ]
    }
   ],
   "source": [
    "# This a simple arithmetic expression to mutiply then add integers\n",
    "\n",
    "a = (3*4) + 5\n",
    "print(a)"
   ]
  },
  {
   "cell_type": "code",
   "execution_count": 14,
   "id": "df0a1dc1-dd1d-4799-bd1e-bd2781773952",
   "metadata": {},
   "outputs": [
    {
     "data": {
      "text/plain": [
       "3.3333333333333335"
      ]
     },
     "execution_count": 14,
     "metadata": {},
     "output_type": "execute_result"
    }
   ],
   "source": [
    "# This will convert 200 minutes to hours by diving by 60\n",
    "a = 200 / 60\n",
    "a"
   ]
  },
  {
   "cell_type": "markdown",
   "id": "452acf58-cfe8-4d86-8715-a50c755dd346",
   "metadata": {},
   "source": [
    "### ***Objectives:***\n",
    "* SQL\n",
    "* Python\n",
    "* R Programming\n",
    "* C/C++\n",
    "* JavaScript"
   ]
  },
  {
   "cell_type": "markdown",
   "id": "06018dd1-3d8b-4106-b188-93d24ad46d36",
   "metadata": {},
   "source": [
    "## Author \n",
    "### Ahmed Abdalkader"
   ]
  },
  {
   "cell_type": "code",
   "execution_count": null,
   "id": "85db7c56-34a1-457a-afb3-a35716cfc7d6",
   "metadata": {},
   "outputs": [],
   "source": []
  }
 ],
 "metadata": {
  "kernelspec": {
   "display_name": "Python",
   "language": "python",
   "name": "conda-env-python-py"
  },
  "language_info": {
   "codemirror_mode": {
    "name": "ipython",
    "version": 3
   },
   "file_extension": ".py",
   "mimetype": "text/x-python",
   "name": "python",
   "nbconvert_exporter": "python",
   "pygments_lexer": "ipython3",
   "version": "3.7.12"
  }
 },
 "nbformat": 4,
 "nbformat_minor": 5
}
